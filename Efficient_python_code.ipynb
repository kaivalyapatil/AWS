{
  "nbformat": 4,
  "nbformat_minor": 0,
  "metadata": {
    "colab": {
      "provenance": [],
      "authorship_tag": "ABX9TyPVvLIvPKvCr3PmYMtXlJpi",
      "include_colab_link": true
    },
    "kernelspec": {
      "name": "python3",
      "display_name": "Python 3"
    },
    "language_info": {
      "name": "python"
    }
  },
  "cells": [
    {
      "cell_type": "markdown",
      "metadata": {
        "id": "view-in-github",
        "colab_type": "text"
      },
      "source": [
        "<a href=\"https://colab.research.google.com/github/kaivalyapatil/AWS/blob/main/Efficient_python_code.ipynb\" target=\"_parent\"><img src=\"https://colab.research.google.com/assets/colab-badge.svg\" alt=\"Open In Colab\"/></a>"
      ]
    },
    {
      "cell_type": "markdown",
      "source": [
        "**Measuring Code Efficiency**"
      ],
      "metadata": {
        "id": "pA3MgzY0Dmt2"
      }
    },
    {
      "cell_type": "code",
      "execution_count": null,
      "metadata": {
        "colab": {
          "base_uri": "https://localhost:8080/"
        },
        "id": "0aPPebQmDZDg",
        "outputId": "0ee98520-4723-4a17-ec7b-5c158c033738"
      },
      "outputs": [
        {
          "output_type": "execute_result",
          "data": {
            "text/plain": [
              "[2, 3, 5, 6]"
            ]
          },
          "metadata": {},
          "execution_count": 2
        }
      ],
      "source": [
        "list1 = [2.5,3,5.4,6]\n",
        "mapped_list = map(round,list1)\n",
        "list(mapped_list)"
      ]
    },
    {
      "cell_type": "code",
      "source": [
        "import time\n",
        "st = time.time()\n",
        "mapped_list = map(lambda x : x** 2,list1)\n",
        "et = time.time()\n",
        "print(et-st)\n",
        "list(mapped_list)"
      ],
      "metadata": {
        "colab": {
          "base_uri": "https://localhost:8080/"
        },
        "id": "JbzujZhnDlyQ",
        "outputId": "d0f648c0-c916-49c1-d047-30b403bd5b16"
      },
      "execution_count": null,
      "outputs": [
        {
          "output_type": "stream",
          "name": "stdout",
          "text": [
            "7.414817810058594e-05\n"
          ]
        },
        {
          "output_type": "execute_result",
          "data": {
            "text/plain": [
              "[6.25, 9, 29.160000000000004, 36]"
            ]
          },
          "metadata": {},
          "execution_count": 3
        }
      ]
    },
    {
      "cell_type": "code",
      "source": [
        "import numpy as np\n",
        "names = ['Ahmed', 'Mohammed', 'Youssef']\n",
        "hts = np.array([188.0, 191.0, 185.0])\n",
        "wts = np.array([ 95.0, 100.0, 75.0])"
      ],
      "metadata": {
        "id": "ldq5kETxE4tv"
      },
      "execution_count": null,
      "outputs": []
    },
    {
      "cell_type": "code",
      "source": [
        "def convert_units(names, heights, weights):\n",
        "    new_hts = [ht * 0.39370 for ht in heights]\n",
        "    new_wts = [wt * 2.20462 for wt in weights]\n",
        "    data = {}\n",
        "    for i,name in enumerate(names):\n",
        "        data[name] = (new_hts[i], new_wts[i])\n",
        "    return data\n",
        "%timeit convert_units(names, hts, wts)"
      ],
      "metadata": {
        "colab": {
          "base_uri": "https://localhost:8080/"
        },
        "id": "3q27tY45jyxz",
        "outputId": "ef451820-1cc2-42ba-bf1a-acccc7b4ae19"
      },
      "execution_count": null,
      "outputs": [
        {
          "output_type": "stream",
          "name": "stdout",
          "text": [
            "6.08 µs ± 1.56 µs per loop (mean ± std. dev. of 7 runs, 100000 loops each)\n"
          ]
        }
      ]
    },
    {
      "cell_type": "code",
      "source": [
        "!pip install line_profiler\n",
        "%load_ext line_profiler\n",
        "%lprun -f convert_units convert_units(names, hts, wts)"
      ],
      "metadata": {
        "colab": {
          "base_uri": "https://localhost:8080/"
        },
        "id": "FCBnsftej8RE",
        "outputId": "4db3af42-3e1d-40ea-9aa6-cce17277e899"
      },
      "execution_count": null,
      "outputs": [
        {
          "output_type": "stream",
          "name": "stdout",
          "text": [
            "Collecting line_profiler\n",
            "  Downloading line_profiler-4.1.2-cp310-cp310-manylinux_2_17_x86_64.manylinux2014_x86_64.whl (714 kB)\n",
            "\u001b[2K     \u001b[90m━━━━━━━━━━━━━━━━━━━━━━━━━━━━━━━━━━━━━━━━\u001b[0m \u001b[32m714.8/714.8 kB\u001b[0m \u001b[31m7.5 MB/s\u001b[0m eta \u001b[36m0:00:00\u001b[0m\n",
            "\u001b[?25hInstalling collected packages: line_profiler\n",
            "Successfully installed line_profiler-4.1.2\n"
          ]
        }
      ]
    },
    {
      "cell_type": "code",
      "source": [
        "!pip install memory_profiler"
      ],
      "metadata": {
        "colab": {
          "base_uri": "https://localhost:8080/"
        },
        "id": "GLhlzzpzkUkQ",
        "outputId": "46190c50-f5aa-484d-fb2e-57641db61e1e"
      },
      "execution_count": null,
      "outputs": [
        {
          "output_type": "stream",
          "name": "stdout",
          "text": [
            "Collecting memory_profiler\n",
            "  Downloading memory_profiler-0.61.0-py3-none-any.whl (31 kB)\n",
            "Requirement already satisfied: psutil in /usr/local/lib/python3.10/dist-packages (from memory_profiler) (5.9.5)\n",
            "Installing collected packages: memory_profiler\n",
            "Successfully installed memory_profiler-0.61.0\n"
          ]
        }
      ]
    },
    {
      "cell_type": "code",
      "source": [
        "import sys\n",
        "sys.getsizeof(convert_units(names, hts, wts))"
      ],
      "metadata": {
        "colab": {
          "base_uri": "https://localhost:8080/"
        },
        "id": "VA5W7YyplE7A",
        "outputId": "682071ba-3c0c-4ed9-8c94-44deae1f00d5"
      },
      "execution_count": null,
      "outputs": [
        {
          "output_type": "execute_result",
          "data": {
            "text/plain": [
              "232"
            ]
          },
          "metadata": {},
          "execution_count": 10
        }
      ]
    },
    {
      "cell_type": "code",
      "source": [
        "# use zip to combine object(list) return [(),()]\n",
        "names = ['Ahmed', 'Youssef', 'Mohammed']\n",
        "age = [25, 27, 40]\n",
        "\n",
        "combine_zip = zip(names,age)\n",
        "combine_zip\n",
        "set(names)\n",
        "tuple(names)"
      ],
      "metadata": {
        "colab": {
          "base_uri": "https://localhost:8080/"
        },
        "id": "J5uSqnjClH8h",
        "outputId": "7e61e4ae-b25e-405d-d7f8-6cf04f8b36f2"
      },
      "execution_count": null,
      "outputs": [
        {
          "output_type": "execute_result",
          "data": {
            "text/plain": [
              "('Ahmed', 'Youssef', 'Mohammed')"
            ]
          },
          "metadata": {},
          "execution_count": 15
        }
      ]
    },
    {
      "cell_type": "code",
      "source": [
        "values = [*combine_zip]\n",
        "values"
      ],
      "metadata": {
        "colab": {
          "base_uri": "https://localhost:8080/"
        },
        "id": "LVmHe0xomlKX",
        "outputId": "c52fb58f-010a-4cfc-8a69-6336d5771844"
      },
      "execution_count": null,
      "outputs": [
        {
          "output_type": "execute_result",
          "data": {
            "text/plain": [
              "[]"
            ]
          },
          "metadata": {},
          "execution_count": 13
        }
      ]
    },
    {
      "cell_type": "code",
      "source": [
        "# %%timeit -r1 -n1\n",
        "\n",
        "# # counting with collections.Counter()\n",
        "# from collections import Counter\n",
        "# poke_types = pokemon['Type 1']\n",
        "\n",
        "# type_counts = Counter(poke_types)\n",
        "# print(type_counts)"
      ],
      "metadata": {
        "id": "e-etx7QMmrxr"
      },
      "execution_count": null,
      "outputs": []
    },
    {
      "cell_type": "code",
      "source": [
        "#  try operation with values and apply() with dataframe\n",
        "# iloc is faster than loc\n",
        "# names['Gender'].unique()\n",
        "# names['Gender'].replace('female', 'FEMALE', inplace=True)\n",
        "# names['Ethnicity'].replace(['WHITE NON HISPANIC','WHITE NON HISP'],'WNH', inplace=True)\n",
        "# names['Gender'].replace({'MALE':'BOY', 'FEMALE':'GIRL', 'female': 'girl'}, inplace=True)"
      ],
      "metadata": {
        "id": "ViP62tnSrmDX"
      },
      "execution_count": null,
      "outputs": []
    },
    {
      "cell_type": "code",
      "source": [
        "# def reward_cal(row):\n",
        "#     if row['age'] >=90:\n",
        "#         return row['favorite_food']\n",
        "#     if (row['time_in_bed'] > 5) & (row['pct_sleeping']>0.5):\n",
        "#         return row['favorite_food']\n",
        "#     return row['hate_food']\n",
        "\n",
        "\n",
        "# # using loop\n",
        "# %%timeit\n",
        "\n",
        "# for index, row in df.iterrows():\n",
        "#    df.loc[index,'reward'] = reward_cal(row)\n",
        "\n",
        "# # using apply\n",
        "# %%timeit\n",
        "# df['reward'] = df.apply(reward_cal, axis = 1)\n",
        "\n",
        "# # using vectorizer(fastest)\n",
        "# %%timeit\n",
        "\n",
        "# df['reward'] = df['hate_food']\n",
        "# df.loc[((df['pct_sleeping']>0.5) &(df['time_in_bed']>5))| (df['age']>90), 'reward'] = df['favorite_food']"
      ],
      "metadata": {
        "id": "SvwEIzbfzGxQ"
      },
      "execution_count": null,
      "outputs": []
    },
    {
      "cell_type": "code",
      "source": [
        "\n",
        "\n",
        "import pandas as pd\n",
        "\n",
        "df = pd.read_csv('sales_data.csv')\n",
        "\n",
        "product_category = 'Electronics'\n",
        "start_date = '2022-01-01'\n",
        "end_date = '2022-03-01'\n",
        "min_sales_amount = 1000\n",
        "min_quantity = 10\n",
        "\n",
        "subset = df.query('product_category == @product_category and @start_date <= order_date <= @end_date and (sales_amount >= @min_sales_amount or quantity >= @min_quantity)')"
      ],
      "metadata": {
        "id": "lW_Pfveh0uR5"
      },
      "execution_count": null,
      "outputs": []
    },
    {
      "cell_type": "markdown",
      "source": [
        "**Pandas**"
      ],
      "metadata": {
        "id": "QdqN2DbSgi5r"
      }
    },
    {
      "cell_type": "code",
      "source": [
        "import pandas as pd\n",
        "df = pd.read_excel(\"IXBRLextractionresults_10K_with_improvements.xlsx\")\n",
        "df.columns"
      ],
      "metadata": {
        "colab": {
          "base_uri": "https://localhost:8080/"
        },
        "id": "XxlUyWqwghaA",
        "outputId": "311b714f-fc28-44b6-be69-ec6a4bb4100a"
      },
      "execution_count": null,
      "outputs": [
        {
          "output_type": "execute_result",
          "data": {
            "text/plain": [
              "Index(['Unnamed: 0', 'datapoint', 'IXBRLtag', 'MSID', 'contextref', 'date',\n",
              "       'document'],\n",
              "      dtype='object')"
            ]
          },
          "metadata": {},
          "execution_count": 2
        }
      ]
    },
    {
      "cell_type": "code",
      "source": [
        "df1 = df.copy()"
      ],
      "metadata": {
        "id": "8BI2tScLi0Jc"
      },
      "execution_count": null,
      "outputs": []
    },
    {
      "cell_type": "code",
      "source": [
        "df1.head().to_numpy()"
      ],
      "metadata": {
        "id": "fuWPx_0njDmO"
      },
      "execution_count": null,
      "outputs": []
    },
    {
      "cell_type": "code",
      "source": [
        "df1.dtypes"
      ],
      "metadata": {
        "colab": {
          "base_uri": "https://localhost:8080/"
        },
        "id": "5PKzOOAfjG6Y",
        "outputId": "edcc9c21-4b5d-4ab8-aeb3-f3f731b94780"
      },
      "execution_count": null,
      "outputs": [
        {
          "output_type": "execute_result",
          "data": {
            "text/plain": [
              "Unnamed: 0     int64\n",
              "datapoint     object\n",
              "IXBRLtag      object\n",
              "MSID          object\n",
              "contextref    object\n",
              "date           int64\n",
              "document      object\n",
              "dtype: object"
            ]
          },
          "metadata": {},
          "execution_count": 7
        }
      ]
    },
    {
      "cell_type": "code",
      "source": [
        "df1.describe()"
      ],
      "metadata": {
        "id": "letgQ_HOjUQA"
      },
      "execution_count": null,
      "outputs": []
    },
    {
      "cell_type": "code",
      "source": [
        "df1.T"
      ],
      "metadata": {
        "id": "8-1AG_aBl1bC"
      },
      "execution_count": null,
      "outputs": []
    },
    {
      "cell_type": "code",
      "source": [
        "df.sort_values(by ='MSID' )"
      ],
      "metadata": {
        "id": "1u_DHGiml8xY"
      },
      "execution_count": null,
      "outputs": []
    },
    {
      "cell_type": "code",
      "source": [
        "df.head()"
      ],
      "metadata": {
        "colab": {
          "base_uri": "https://localhost:8080/",
          "height": 330
        },
        "id": "rggMPJPDm9bL",
        "outputId": "ca23cab8-31a9-4cae-ab0e-1a9214f26860"
      },
      "execution_count": null,
      "outputs": [
        {
          "output_type": "execute_result",
          "data": {
            "text/plain": [
              "   Unnamed: 0 datapoint                                           IXBRLtag  \\\n",
              "0           0     264.5  us-gaap:LongTermDebtMaturitiesRepaymentsOfPrin...   \n",
              "1           1     797.2  us-gaap:LongTermDebtMaturitiesRepaymentsOfPrin...   \n",
              "2           2     278.0  us-gaap:LongTermDebtMaturitiesRepaymentsOfPrin...   \n",
              "3           3     509.2  us-gaap:LongTermDebtMaturitiesRepaymentsOfPrin...   \n",
              "4           4   2,135.0  us-gaap:LongTermDebtMaturitiesRepaymentsOfPrin...   \n",
              "\n",
              "                            MSID                                   contextref  \\\n",
              "0  Debt due in Year 2|DMBS000003  i2b87a86043d44e69b9675ea2d017c1af_I20211130   \n",
              "1  Debt due in Year 3|DMBS000004  i2b87a86043d44e69b9675ea2d017c1af_I20211130   \n",
              "2  Debt due in Year 4|DMBS000005  i2b87a86043d44e69b9675ea2d017c1af_I20211130   \n",
              "3  Debt due in Year 5|DMBS000006  i2b87a86043d44e69b9675ea2d017c1af_I20211130   \n",
              "4     Debt due Beyond|DMBS000007  i2b87a86043d44e69b9675ea2d017c1af_I20211130   \n",
              "\n",
              "       date                        document  \n",
              "0  20211130  374529433_0000063754-22-000005  \n",
              "1  20211130  374529433_0000063754-22-000005  \n",
              "2  20211130  374529433_0000063754-22-000005  \n",
              "3  20211130  374529433_0000063754-22-000005  \n",
              "4  20211130  374529433_0000063754-22-000005  "
            ],
            "text/html": [
              "\n",
              "  <div id=\"df-182aff43-d652-49e5-ae09-e50eb3e2d0fe\" class=\"colab-df-container\">\n",
              "    <div>\n",
              "<style scoped>\n",
              "    .dataframe tbody tr th:only-of-type {\n",
              "        vertical-align: middle;\n",
              "    }\n",
              "\n",
              "    .dataframe tbody tr th {\n",
              "        vertical-align: top;\n",
              "    }\n",
              "\n",
              "    .dataframe thead th {\n",
              "        text-align: right;\n",
              "    }\n",
              "</style>\n",
              "<table border=\"1\" class=\"dataframe\">\n",
              "  <thead>\n",
              "    <tr style=\"text-align: right;\">\n",
              "      <th></th>\n",
              "      <th>Unnamed: 0</th>\n",
              "      <th>datapoint</th>\n",
              "      <th>IXBRLtag</th>\n",
              "      <th>MSID</th>\n",
              "      <th>contextref</th>\n",
              "      <th>date</th>\n",
              "      <th>document</th>\n",
              "    </tr>\n",
              "  </thead>\n",
              "  <tbody>\n",
              "    <tr>\n",
              "      <th>0</th>\n",
              "      <td>0</td>\n",
              "      <td>264.5</td>\n",
              "      <td>us-gaap:LongTermDebtMaturitiesRepaymentsOfPrin...</td>\n",
              "      <td>Debt due in Year 2|DMBS000003</td>\n",
              "      <td>i2b87a86043d44e69b9675ea2d017c1af_I20211130</td>\n",
              "      <td>20211130</td>\n",
              "      <td>374529433_0000063754-22-000005</td>\n",
              "    </tr>\n",
              "    <tr>\n",
              "      <th>1</th>\n",
              "      <td>1</td>\n",
              "      <td>797.2</td>\n",
              "      <td>us-gaap:LongTermDebtMaturitiesRepaymentsOfPrin...</td>\n",
              "      <td>Debt due in Year 3|DMBS000004</td>\n",
              "      <td>i2b87a86043d44e69b9675ea2d017c1af_I20211130</td>\n",
              "      <td>20211130</td>\n",
              "      <td>374529433_0000063754-22-000005</td>\n",
              "    </tr>\n",
              "    <tr>\n",
              "      <th>2</th>\n",
              "      <td>2</td>\n",
              "      <td>278.0</td>\n",
              "      <td>us-gaap:LongTermDebtMaturitiesRepaymentsOfPrin...</td>\n",
              "      <td>Debt due in Year 4|DMBS000005</td>\n",
              "      <td>i2b87a86043d44e69b9675ea2d017c1af_I20211130</td>\n",
              "      <td>20211130</td>\n",
              "      <td>374529433_0000063754-22-000005</td>\n",
              "    </tr>\n",
              "    <tr>\n",
              "      <th>3</th>\n",
              "      <td>3</td>\n",
              "      <td>509.2</td>\n",
              "      <td>us-gaap:LongTermDebtMaturitiesRepaymentsOfPrin...</td>\n",
              "      <td>Debt due in Year 5|DMBS000006</td>\n",
              "      <td>i2b87a86043d44e69b9675ea2d017c1af_I20211130</td>\n",
              "      <td>20211130</td>\n",
              "      <td>374529433_0000063754-22-000005</td>\n",
              "    </tr>\n",
              "    <tr>\n",
              "      <th>4</th>\n",
              "      <td>4</td>\n",
              "      <td>2,135.0</td>\n",
              "      <td>us-gaap:LongTermDebtMaturitiesRepaymentsOfPrin...</td>\n",
              "      <td>Debt due Beyond|DMBS000007</td>\n",
              "      <td>i2b87a86043d44e69b9675ea2d017c1af_I20211130</td>\n",
              "      <td>20211130</td>\n",
              "      <td>374529433_0000063754-22-000005</td>\n",
              "    </tr>\n",
              "  </tbody>\n",
              "</table>\n",
              "</div>\n",
              "    <div class=\"colab-df-buttons\">\n",
              "\n",
              "  <div class=\"colab-df-container\">\n",
              "    <button class=\"colab-df-convert\" onclick=\"convertToInteractive('df-182aff43-d652-49e5-ae09-e50eb3e2d0fe')\"\n",
              "            title=\"Convert this dataframe to an interactive table.\"\n",
              "            style=\"display:none;\">\n",
              "\n",
              "  <svg xmlns=\"http://www.w3.org/2000/svg\" height=\"24px\" viewBox=\"0 -960 960 960\">\n",
              "    <path d=\"M120-120v-720h720v720H120Zm60-500h600v-160H180v160Zm220 220h160v-160H400v160Zm0 220h160v-160H400v160ZM180-400h160v-160H180v160Zm440 0h160v-160H620v160ZM180-180h160v-160H180v160Zm440 0h160v-160H620v160Z\"/>\n",
              "  </svg>\n",
              "    </button>\n",
              "\n",
              "  <style>\n",
              "    .colab-df-container {\n",
              "      display:flex;\n",
              "      gap: 12px;\n",
              "    }\n",
              "\n",
              "    .colab-df-convert {\n",
              "      background-color: #E8F0FE;\n",
              "      border: none;\n",
              "      border-radius: 50%;\n",
              "      cursor: pointer;\n",
              "      display: none;\n",
              "      fill: #1967D2;\n",
              "      height: 32px;\n",
              "      padding: 0 0 0 0;\n",
              "      width: 32px;\n",
              "    }\n",
              "\n",
              "    .colab-df-convert:hover {\n",
              "      background-color: #E2EBFA;\n",
              "      box-shadow: 0px 1px 2px rgba(60, 64, 67, 0.3), 0px 1px 3px 1px rgba(60, 64, 67, 0.15);\n",
              "      fill: #174EA6;\n",
              "    }\n",
              "\n",
              "    .colab-df-buttons div {\n",
              "      margin-bottom: 4px;\n",
              "    }\n",
              "\n",
              "    [theme=dark] .colab-df-convert {\n",
              "      background-color: #3B4455;\n",
              "      fill: #D2E3FC;\n",
              "    }\n",
              "\n",
              "    [theme=dark] .colab-df-convert:hover {\n",
              "      background-color: #434B5C;\n",
              "      box-shadow: 0px 1px 3px 1px rgba(0, 0, 0, 0.15);\n",
              "      filter: drop-shadow(0px 1px 2px rgba(0, 0, 0, 0.3));\n",
              "      fill: #FFFFFF;\n",
              "    }\n",
              "  </style>\n",
              "\n",
              "    <script>\n",
              "      const buttonEl =\n",
              "        document.querySelector('#df-182aff43-d652-49e5-ae09-e50eb3e2d0fe button.colab-df-convert');\n",
              "      buttonEl.style.display =\n",
              "        google.colab.kernel.accessAllowed ? 'block' : 'none';\n",
              "\n",
              "      async function convertToInteractive(key) {\n",
              "        const element = document.querySelector('#df-182aff43-d652-49e5-ae09-e50eb3e2d0fe');\n",
              "        const dataTable =\n",
              "          await google.colab.kernel.invokeFunction('convertToInteractive',\n",
              "                                                    [key], {});\n",
              "        if (!dataTable) return;\n",
              "\n",
              "        const docLinkHtml = 'Like what you see? Visit the ' +\n",
              "          '<a target=\"_blank\" href=https://colab.research.google.com/notebooks/data_table.ipynb>data table notebook</a>'\n",
              "          + ' to learn more about interactive tables.';\n",
              "        element.innerHTML = '';\n",
              "        dataTable['output_type'] = 'display_data';\n",
              "        await google.colab.output.renderOutput(dataTable, element);\n",
              "        const docLink = document.createElement('div');\n",
              "        docLink.innerHTML = docLinkHtml;\n",
              "        element.appendChild(docLink);\n",
              "      }\n",
              "    </script>\n",
              "  </div>\n",
              "\n",
              "\n",
              "<div id=\"df-873310ca-a13c-46c0-8161-e3913635e358\">\n",
              "  <button class=\"colab-df-quickchart\" onclick=\"quickchart('df-873310ca-a13c-46c0-8161-e3913635e358')\"\n",
              "            title=\"Suggest charts\"\n",
              "            style=\"display:none;\">\n",
              "\n",
              "<svg xmlns=\"http://www.w3.org/2000/svg\" height=\"24px\"viewBox=\"0 0 24 24\"\n",
              "     width=\"24px\">\n",
              "    <g>\n",
              "        <path d=\"M19 3H5c-1.1 0-2 .9-2 2v14c0 1.1.9 2 2 2h14c1.1 0 2-.9 2-2V5c0-1.1-.9-2-2-2zM9 17H7v-7h2v7zm4 0h-2V7h2v10zm4 0h-2v-4h2v4z\"/>\n",
              "    </g>\n",
              "</svg>\n",
              "  </button>\n",
              "\n",
              "<style>\n",
              "  .colab-df-quickchart {\n",
              "      --bg-color: #E8F0FE;\n",
              "      --fill-color: #1967D2;\n",
              "      --hover-bg-color: #E2EBFA;\n",
              "      --hover-fill-color: #174EA6;\n",
              "      --disabled-fill-color: #AAA;\n",
              "      --disabled-bg-color: #DDD;\n",
              "  }\n",
              "\n",
              "  [theme=dark] .colab-df-quickchart {\n",
              "      --bg-color: #3B4455;\n",
              "      --fill-color: #D2E3FC;\n",
              "      --hover-bg-color: #434B5C;\n",
              "      --hover-fill-color: #FFFFFF;\n",
              "      --disabled-bg-color: #3B4455;\n",
              "      --disabled-fill-color: #666;\n",
              "  }\n",
              "\n",
              "  .colab-df-quickchart {\n",
              "    background-color: var(--bg-color);\n",
              "    border: none;\n",
              "    border-radius: 50%;\n",
              "    cursor: pointer;\n",
              "    display: none;\n",
              "    fill: var(--fill-color);\n",
              "    height: 32px;\n",
              "    padding: 0;\n",
              "    width: 32px;\n",
              "  }\n",
              "\n",
              "  .colab-df-quickchart:hover {\n",
              "    background-color: var(--hover-bg-color);\n",
              "    box-shadow: 0 1px 2px rgba(60, 64, 67, 0.3), 0 1px 3px 1px rgba(60, 64, 67, 0.15);\n",
              "    fill: var(--button-hover-fill-color);\n",
              "  }\n",
              "\n",
              "  .colab-df-quickchart-complete:disabled,\n",
              "  .colab-df-quickchart-complete:disabled:hover {\n",
              "    background-color: var(--disabled-bg-color);\n",
              "    fill: var(--disabled-fill-color);\n",
              "    box-shadow: none;\n",
              "  }\n",
              "\n",
              "  .colab-df-spinner {\n",
              "    border: 2px solid var(--fill-color);\n",
              "    border-color: transparent;\n",
              "    border-bottom-color: var(--fill-color);\n",
              "    animation:\n",
              "      spin 1s steps(1) infinite;\n",
              "  }\n",
              "\n",
              "  @keyframes spin {\n",
              "    0% {\n",
              "      border-color: transparent;\n",
              "      border-bottom-color: var(--fill-color);\n",
              "      border-left-color: var(--fill-color);\n",
              "    }\n",
              "    20% {\n",
              "      border-color: transparent;\n",
              "      border-left-color: var(--fill-color);\n",
              "      border-top-color: var(--fill-color);\n",
              "    }\n",
              "    30% {\n",
              "      border-color: transparent;\n",
              "      border-left-color: var(--fill-color);\n",
              "      border-top-color: var(--fill-color);\n",
              "      border-right-color: var(--fill-color);\n",
              "    }\n",
              "    40% {\n",
              "      border-color: transparent;\n",
              "      border-right-color: var(--fill-color);\n",
              "      border-top-color: var(--fill-color);\n",
              "    }\n",
              "    60% {\n",
              "      border-color: transparent;\n",
              "      border-right-color: var(--fill-color);\n",
              "    }\n",
              "    80% {\n",
              "      border-color: transparent;\n",
              "      border-right-color: var(--fill-color);\n",
              "      border-bottom-color: var(--fill-color);\n",
              "    }\n",
              "    90% {\n",
              "      border-color: transparent;\n",
              "      border-bottom-color: var(--fill-color);\n",
              "    }\n",
              "  }\n",
              "</style>\n",
              "\n",
              "  <script>\n",
              "    async function quickchart(key) {\n",
              "      const quickchartButtonEl =\n",
              "        document.querySelector('#' + key + ' button');\n",
              "      quickchartButtonEl.disabled = true;  // To prevent multiple clicks.\n",
              "      quickchartButtonEl.classList.add('colab-df-spinner');\n",
              "      try {\n",
              "        const charts = await google.colab.kernel.invokeFunction(\n",
              "            'suggestCharts', [key], {});\n",
              "      } catch (error) {\n",
              "        console.error('Error during call to suggestCharts:', error);\n",
              "      }\n",
              "      quickchartButtonEl.classList.remove('colab-df-spinner');\n",
              "      quickchartButtonEl.classList.add('colab-df-quickchart-complete');\n",
              "    }\n",
              "    (() => {\n",
              "      let quickchartButtonEl =\n",
              "        document.querySelector('#df-873310ca-a13c-46c0-8161-e3913635e358 button');\n",
              "      quickchartButtonEl.style.display =\n",
              "        google.colab.kernel.accessAllowed ? 'block' : 'none';\n",
              "    })();\n",
              "  </script>\n",
              "</div>\n",
              "\n",
              "    </div>\n",
              "  </div>\n"
            ]
          },
          "metadata": {},
          "execution_count": 13
        }
      ]
    },
    {
      "cell_type": "code",
      "source": [
        "df[df['Unnamed: 0'] > 100]"
      ],
      "metadata": {
        "id": "P171JC2DmW3E"
      },
      "execution_count": null,
      "outputs": []
    },
    {
      "cell_type": "code",
      "source": [
        "df1[df1['Unnamed: 0'].isin([100,200,500])]"
      ],
      "metadata": {
        "id": "00KIRS2YnVEB"
      },
      "execution_count": null,
      "outputs": []
    },
    {
      "cell_type": "code",
      "source": [
        "#  Nan - df.drpna(), df.fillna(), pd.isna(df)"
      ],
      "metadata": {
        "id": "Oq-KgmNGnzm1"
      },
      "execution_count": null,
      "outputs": []
    },
    {
      "cell_type": "code",
      "source": [
        "df['IXBRLtag'].str.lower()"
      ],
      "metadata": {
        "colab": {
          "base_uri": "https://localhost:8080/"
        },
        "id": "Gf4Y0WNvpDF2",
        "outputId": "c33cca7e-f46b-4d17-818c-e3b2ee47855a"
      },
      "execution_count": null,
      "outputs": [
        {
          "output_type": "execute_result",
          "data": {
            "text/plain": [
              "0      us-gaap:longtermdebtmaturitiesrepaymentsofprin...\n",
              "1      us-gaap:longtermdebtmaturitiesrepaymentsofprin...\n",
              "2      us-gaap:longtermdebtmaturitiesrepaymentsofprin...\n",
              "3      us-gaap:longtermdebtmaturitiesrepaymentsofprin...\n",
              "4      us-gaap:longtermdebtmaturitiesrepaymentsofprin...\n",
              "                             ...                        \n",
              "599    us-gaap:lesseeoperatingleaseliabilitypaymentsd...\n",
              "600    us-gaap:lesseeoperatingleaseliabilitypaymentsd...\n",
              "601    us-gaap:lesseeoperatingleaseliabilitypaymentsd...\n",
              "602    us-gaap:lesseeoperatingleaseliabilitypaymentsd...\n",
              "603    us-gaap:lesseeoperatingleaseliabilitypaymentsd...\n",
              "Name: IXBRLtag, Length: 604, dtype: object"
            ]
          },
          "metadata": {},
          "execution_count": 19
        }
      ]
    },
    {
      "cell_type": "code",
      "source": [
        "df1.groupby('MSID')[['IXBRLtag','datapoint']].first()"
      ],
      "metadata": {
        "colab": {
          "base_uri": "https://localhost:8080/",
          "height": 645
        },
        "id": "PU2JqW7VpLKc",
        "outputId": "867cfd5a-3f45-41fa-a856-e6e9c16e2da3"
      },
      "execution_count": null,
      "outputs": [
        {
          "output_type": "execute_result",
          "data": {
            "text/plain": [
              "                                                                                   IXBRLtag  \\\n",
              "MSID                                                                                          \n",
              "Capital Lease due Beyond|DMBS000015       us-gaap:FinanceLeaseLiabilityPaymentsDueAfterY...   \n",
              "Capital Lease due in Year 1|DMBS000010    us-gaap:FinanceLeaseLiabilityPaymentsDueNextTw...   \n",
              "Capital Lease due in Year 2|DMBS000011      us-gaap:FinanceLeaseLiabilityPaymentsDueYearTwo   \n",
              "Capital Lease due in Year 3|DMBS000012    us-gaap:FinanceLeaseLiabilityPaymentsDueYearThree   \n",
              "Capital Lease due in Year 4|DMBS000013     us-gaap:FinanceLeaseLiabilityPaymentsDueYearFour   \n",
              "Capital Lease due in Year 5|DMBS000014     us-gaap:FinanceLeaseLiabilityPaymentsDueYearFive   \n",
              "Debt due Beyond|DMBS000007                us-gaap:LongTermDebtMaturitiesRepaymentsOfPrin...   \n",
              "Debt due in Year 1|DMBS000002             us-gaap:LongTermDebtMaturitiesRepaymentsOfPrin...   \n",
              "Debt due in Year 2|DMBS000003             us-gaap:LongTermDebtMaturitiesRepaymentsOfPrin...   \n",
              "Debt due in Year 3|DMBS000004             us-gaap:LongTermDebtMaturitiesRepaymentsOfPrin...   \n",
              "Debt due in Year 4|DMBS000005             us-gaap:LongTermDebtMaturitiesRepaymentsOfPrin...   \n",
              "Debt due in Year 5|DMBS000006             us-gaap:LongTermDebtMaturitiesRepaymentsOfPrin...   \n",
              "Operating Lease due Beyond|DMBS000023     us-gaap:LesseeOperatingLeaseLiabilityPaymentsD...   \n",
              "Operating Lease due in Year 1|DMBS000018  us-gaap:LesseeOperatingLeaseLiabilityPaymentsD...   \n",
              "Operating Lease due in Year 2|DMBS000019  us-gaap:LesseeOperatingLeaseLiabilityPaymentsD...   \n",
              "Operating Lease due in Year 3|DMBS000020  us-gaap:LesseeOperatingLeaseLiabilityPaymentsD...   \n",
              "Operating Lease due in Year 4|DMBS000021  us-gaap:LesseeOperatingLeaseLiabilityPaymentsD...   \n",
              "Operating Lease due in Year 5|DMBS000022  us-gaap:LesseeOperatingLeaseLiabilityPaymentsD...   \n",
              "\n",
              "                                         datapoint  \n",
              "MSID                                                \n",
              "Capital Lease due Beyond|DMBS000015          102.0  \n",
              "Capital Lease due in Year 1|DMBS000010        11.4  \n",
              "Capital Lease due in Year 2|DMBS000011        11.4  \n",
              "Capital Lease due in Year 3|DMBS000012        11.5  \n",
              "Capital Lease due in Year 4|DMBS000013        11.7  \n",
              "Capital Lease due in Year 5|DMBS000014        12.0  \n",
              "Debt due Beyond|DMBS000007                 2,135.0  \n",
              "Debt due in Year 1|DMBS000002                1,065  \n",
              "Debt due in Year 2|DMBS000003                264.5  \n",
              "Debt due in Year 3|DMBS000004                797.2  \n",
              "Debt due in Year 4|DMBS000005                278.0  \n",
              "Debt due in Year 5|DMBS000006                509.2  \n",
              "Operating Lease due Beyond|DMBS000023         38.8  \n",
              "Operating Lease due in Year 1|DMBS000018      38.3  \n",
              "Operating Lease due in Year 2|DMBS000019      28.6  \n",
              "Operating Lease due in Year 3|DMBS000020      20.8  \n",
              "Operating Lease due in Year 4|DMBS000021      15.7  \n",
              "Operating Lease due in Year 5|DMBS000022      12.0  "
            ],
            "text/html": [
              "\n",
              "  <div id=\"df-a5f8053d-b096-46a7-a241-9d83d42a57bb\" class=\"colab-df-container\">\n",
              "    <div>\n",
              "<style scoped>\n",
              "    .dataframe tbody tr th:only-of-type {\n",
              "        vertical-align: middle;\n",
              "    }\n",
              "\n",
              "    .dataframe tbody tr th {\n",
              "        vertical-align: top;\n",
              "    }\n",
              "\n",
              "    .dataframe thead th {\n",
              "        text-align: right;\n",
              "    }\n",
              "</style>\n",
              "<table border=\"1\" class=\"dataframe\">\n",
              "  <thead>\n",
              "    <tr style=\"text-align: right;\">\n",
              "      <th></th>\n",
              "      <th>IXBRLtag</th>\n",
              "      <th>datapoint</th>\n",
              "    </tr>\n",
              "    <tr>\n",
              "      <th>MSID</th>\n",
              "      <th></th>\n",
              "      <th></th>\n",
              "    </tr>\n",
              "  </thead>\n",
              "  <tbody>\n",
              "    <tr>\n",
              "      <th>Capital Lease due Beyond|DMBS000015</th>\n",
              "      <td>us-gaap:FinanceLeaseLiabilityPaymentsDueAfterY...</td>\n",
              "      <td>102.0</td>\n",
              "    </tr>\n",
              "    <tr>\n",
              "      <th>Capital Lease due in Year 1|DMBS000010</th>\n",
              "      <td>us-gaap:FinanceLeaseLiabilityPaymentsDueNextTw...</td>\n",
              "      <td>11.4</td>\n",
              "    </tr>\n",
              "    <tr>\n",
              "      <th>Capital Lease due in Year 2|DMBS000011</th>\n",
              "      <td>us-gaap:FinanceLeaseLiabilityPaymentsDueYearTwo</td>\n",
              "      <td>11.4</td>\n",
              "    </tr>\n",
              "    <tr>\n",
              "      <th>Capital Lease due in Year 3|DMBS000012</th>\n",
              "      <td>us-gaap:FinanceLeaseLiabilityPaymentsDueYearThree</td>\n",
              "      <td>11.5</td>\n",
              "    </tr>\n",
              "    <tr>\n",
              "      <th>Capital Lease due in Year 4|DMBS000013</th>\n",
              "      <td>us-gaap:FinanceLeaseLiabilityPaymentsDueYearFour</td>\n",
              "      <td>11.7</td>\n",
              "    </tr>\n",
              "    <tr>\n",
              "      <th>Capital Lease due in Year 5|DMBS000014</th>\n",
              "      <td>us-gaap:FinanceLeaseLiabilityPaymentsDueYearFive</td>\n",
              "      <td>12.0</td>\n",
              "    </tr>\n",
              "    <tr>\n",
              "      <th>Debt due Beyond|DMBS000007</th>\n",
              "      <td>us-gaap:LongTermDebtMaturitiesRepaymentsOfPrin...</td>\n",
              "      <td>2,135.0</td>\n",
              "    </tr>\n",
              "    <tr>\n",
              "      <th>Debt due in Year 1|DMBS000002</th>\n",
              "      <td>us-gaap:LongTermDebtMaturitiesRepaymentsOfPrin...</td>\n",
              "      <td>1,065</td>\n",
              "    </tr>\n",
              "    <tr>\n",
              "      <th>Debt due in Year 2|DMBS000003</th>\n",
              "      <td>us-gaap:LongTermDebtMaturitiesRepaymentsOfPrin...</td>\n",
              "      <td>264.5</td>\n",
              "    </tr>\n",
              "    <tr>\n",
              "      <th>Debt due in Year 3|DMBS000004</th>\n",
              "      <td>us-gaap:LongTermDebtMaturitiesRepaymentsOfPrin...</td>\n",
              "      <td>797.2</td>\n",
              "    </tr>\n",
              "    <tr>\n",
              "      <th>Debt due in Year 4|DMBS000005</th>\n",
              "      <td>us-gaap:LongTermDebtMaturitiesRepaymentsOfPrin...</td>\n",
              "      <td>278.0</td>\n",
              "    </tr>\n",
              "    <tr>\n",
              "      <th>Debt due in Year 5|DMBS000006</th>\n",
              "      <td>us-gaap:LongTermDebtMaturitiesRepaymentsOfPrin...</td>\n",
              "      <td>509.2</td>\n",
              "    </tr>\n",
              "    <tr>\n",
              "      <th>Operating Lease due Beyond|DMBS000023</th>\n",
              "      <td>us-gaap:LesseeOperatingLeaseLiabilityPaymentsD...</td>\n",
              "      <td>38.8</td>\n",
              "    </tr>\n",
              "    <tr>\n",
              "      <th>Operating Lease due in Year 1|DMBS000018</th>\n",
              "      <td>us-gaap:LesseeOperatingLeaseLiabilityPaymentsD...</td>\n",
              "      <td>38.3</td>\n",
              "    </tr>\n",
              "    <tr>\n",
              "      <th>Operating Lease due in Year 2|DMBS000019</th>\n",
              "      <td>us-gaap:LesseeOperatingLeaseLiabilityPaymentsD...</td>\n",
              "      <td>28.6</td>\n",
              "    </tr>\n",
              "    <tr>\n",
              "      <th>Operating Lease due in Year 3|DMBS000020</th>\n",
              "      <td>us-gaap:LesseeOperatingLeaseLiabilityPaymentsD...</td>\n",
              "      <td>20.8</td>\n",
              "    </tr>\n",
              "    <tr>\n",
              "      <th>Operating Lease due in Year 4|DMBS000021</th>\n",
              "      <td>us-gaap:LesseeOperatingLeaseLiabilityPaymentsD...</td>\n",
              "      <td>15.7</td>\n",
              "    </tr>\n",
              "    <tr>\n",
              "      <th>Operating Lease due in Year 5|DMBS000022</th>\n",
              "      <td>us-gaap:LesseeOperatingLeaseLiabilityPaymentsD...</td>\n",
              "      <td>12.0</td>\n",
              "    </tr>\n",
              "  </tbody>\n",
              "</table>\n",
              "</div>\n",
              "    <div class=\"colab-df-buttons\">\n",
              "\n",
              "  <div class=\"colab-df-container\">\n",
              "    <button class=\"colab-df-convert\" onclick=\"convertToInteractive('df-a5f8053d-b096-46a7-a241-9d83d42a57bb')\"\n",
              "            title=\"Convert this dataframe to an interactive table.\"\n",
              "            style=\"display:none;\">\n",
              "\n",
              "  <svg xmlns=\"http://www.w3.org/2000/svg\" height=\"24px\" viewBox=\"0 -960 960 960\">\n",
              "    <path d=\"M120-120v-720h720v720H120Zm60-500h600v-160H180v160Zm220 220h160v-160H400v160Zm0 220h160v-160H400v160ZM180-400h160v-160H180v160Zm440 0h160v-160H620v160ZM180-180h160v-160H180v160Zm440 0h160v-160H620v160Z\"/>\n",
              "  </svg>\n",
              "    </button>\n",
              "\n",
              "  <style>\n",
              "    .colab-df-container {\n",
              "      display:flex;\n",
              "      gap: 12px;\n",
              "    }\n",
              "\n",
              "    .colab-df-convert {\n",
              "      background-color: #E8F0FE;\n",
              "      border: none;\n",
              "      border-radius: 50%;\n",
              "      cursor: pointer;\n",
              "      display: none;\n",
              "      fill: #1967D2;\n",
              "      height: 32px;\n",
              "      padding: 0 0 0 0;\n",
              "      width: 32px;\n",
              "    }\n",
              "\n",
              "    .colab-df-convert:hover {\n",
              "      background-color: #E2EBFA;\n",
              "      box-shadow: 0px 1px 2px rgba(60, 64, 67, 0.3), 0px 1px 3px 1px rgba(60, 64, 67, 0.15);\n",
              "      fill: #174EA6;\n",
              "    }\n",
              "\n",
              "    .colab-df-buttons div {\n",
              "      margin-bottom: 4px;\n",
              "    }\n",
              "\n",
              "    [theme=dark] .colab-df-convert {\n",
              "      background-color: #3B4455;\n",
              "      fill: #D2E3FC;\n",
              "    }\n",
              "\n",
              "    [theme=dark] .colab-df-convert:hover {\n",
              "      background-color: #434B5C;\n",
              "      box-shadow: 0px 1px 3px 1px rgba(0, 0, 0, 0.15);\n",
              "      filter: drop-shadow(0px 1px 2px rgba(0, 0, 0, 0.3));\n",
              "      fill: #FFFFFF;\n",
              "    }\n",
              "  </style>\n",
              "\n",
              "    <script>\n",
              "      const buttonEl =\n",
              "        document.querySelector('#df-a5f8053d-b096-46a7-a241-9d83d42a57bb button.colab-df-convert');\n",
              "      buttonEl.style.display =\n",
              "        google.colab.kernel.accessAllowed ? 'block' : 'none';\n",
              "\n",
              "      async function convertToInteractive(key) {\n",
              "        const element = document.querySelector('#df-a5f8053d-b096-46a7-a241-9d83d42a57bb');\n",
              "        const dataTable =\n",
              "          await google.colab.kernel.invokeFunction('convertToInteractive',\n",
              "                                                    [key], {});\n",
              "        if (!dataTable) return;\n",
              "\n",
              "        const docLinkHtml = 'Like what you see? Visit the ' +\n",
              "          '<a target=\"_blank\" href=https://colab.research.google.com/notebooks/data_table.ipynb>data table notebook</a>'\n",
              "          + ' to learn more about interactive tables.';\n",
              "        element.innerHTML = '';\n",
              "        dataTable['output_type'] = 'display_data';\n",
              "        await google.colab.output.renderOutput(dataTable, element);\n",
              "        const docLink = document.createElement('div');\n",
              "        docLink.innerHTML = docLinkHtml;\n",
              "        element.appendChild(docLink);\n",
              "      }\n",
              "    </script>\n",
              "  </div>\n",
              "\n",
              "\n",
              "<div id=\"df-6358a9ef-9132-451b-86ad-9beab7e218fa\">\n",
              "  <button class=\"colab-df-quickchart\" onclick=\"quickchart('df-6358a9ef-9132-451b-86ad-9beab7e218fa')\"\n",
              "            title=\"Suggest charts\"\n",
              "            style=\"display:none;\">\n",
              "\n",
              "<svg xmlns=\"http://www.w3.org/2000/svg\" height=\"24px\"viewBox=\"0 0 24 24\"\n",
              "     width=\"24px\">\n",
              "    <g>\n",
              "        <path d=\"M19 3H5c-1.1 0-2 .9-2 2v14c0 1.1.9 2 2 2h14c1.1 0 2-.9 2-2V5c0-1.1-.9-2-2-2zM9 17H7v-7h2v7zm4 0h-2V7h2v10zm4 0h-2v-4h2v4z\"/>\n",
              "    </g>\n",
              "</svg>\n",
              "  </button>\n",
              "\n",
              "<style>\n",
              "  .colab-df-quickchart {\n",
              "      --bg-color: #E8F0FE;\n",
              "      --fill-color: #1967D2;\n",
              "      --hover-bg-color: #E2EBFA;\n",
              "      --hover-fill-color: #174EA6;\n",
              "      --disabled-fill-color: #AAA;\n",
              "      --disabled-bg-color: #DDD;\n",
              "  }\n",
              "\n",
              "  [theme=dark] .colab-df-quickchart {\n",
              "      --bg-color: #3B4455;\n",
              "      --fill-color: #D2E3FC;\n",
              "      --hover-bg-color: #434B5C;\n",
              "      --hover-fill-color: #FFFFFF;\n",
              "      --disabled-bg-color: #3B4455;\n",
              "      --disabled-fill-color: #666;\n",
              "  }\n",
              "\n",
              "  .colab-df-quickchart {\n",
              "    background-color: var(--bg-color);\n",
              "    border: none;\n",
              "    border-radius: 50%;\n",
              "    cursor: pointer;\n",
              "    display: none;\n",
              "    fill: var(--fill-color);\n",
              "    height: 32px;\n",
              "    padding: 0;\n",
              "    width: 32px;\n",
              "  }\n",
              "\n",
              "  .colab-df-quickchart:hover {\n",
              "    background-color: var(--hover-bg-color);\n",
              "    box-shadow: 0 1px 2px rgba(60, 64, 67, 0.3), 0 1px 3px 1px rgba(60, 64, 67, 0.15);\n",
              "    fill: var(--button-hover-fill-color);\n",
              "  }\n",
              "\n",
              "  .colab-df-quickchart-complete:disabled,\n",
              "  .colab-df-quickchart-complete:disabled:hover {\n",
              "    background-color: var(--disabled-bg-color);\n",
              "    fill: var(--disabled-fill-color);\n",
              "    box-shadow: none;\n",
              "  }\n",
              "\n",
              "  .colab-df-spinner {\n",
              "    border: 2px solid var(--fill-color);\n",
              "    border-color: transparent;\n",
              "    border-bottom-color: var(--fill-color);\n",
              "    animation:\n",
              "      spin 1s steps(1) infinite;\n",
              "  }\n",
              "\n",
              "  @keyframes spin {\n",
              "    0% {\n",
              "      border-color: transparent;\n",
              "      border-bottom-color: var(--fill-color);\n",
              "      border-left-color: var(--fill-color);\n",
              "    }\n",
              "    20% {\n",
              "      border-color: transparent;\n",
              "      border-left-color: var(--fill-color);\n",
              "      border-top-color: var(--fill-color);\n",
              "    }\n",
              "    30% {\n",
              "      border-color: transparent;\n",
              "      border-left-color: var(--fill-color);\n",
              "      border-top-color: var(--fill-color);\n",
              "      border-right-color: var(--fill-color);\n",
              "    }\n",
              "    40% {\n",
              "      border-color: transparent;\n",
              "      border-right-color: var(--fill-color);\n",
              "      border-top-color: var(--fill-color);\n",
              "    }\n",
              "    60% {\n",
              "      border-color: transparent;\n",
              "      border-right-color: var(--fill-color);\n",
              "    }\n",
              "    80% {\n",
              "      border-color: transparent;\n",
              "      border-right-color: var(--fill-color);\n",
              "      border-bottom-color: var(--fill-color);\n",
              "    }\n",
              "    90% {\n",
              "      border-color: transparent;\n",
              "      border-bottom-color: var(--fill-color);\n",
              "    }\n",
              "  }\n",
              "</style>\n",
              "\n",
              "  <script>\n",
              "    async function quickchart(key) {\n",
              "      const quickchartButtonEl =\n",
              "        document.querySelector('#' + key + ' button');\n",
              "      quickchartButtonEl.disabled = true;  // To prevent multiple clicks.\n",
              "      quickchartButtonEl.classList.add('colab-df-spinner');\n",
              "      try {\n",
              "        const charts = await google.colab.kernel.invokeFunction(\n",
              "            'suggestCharts', [key], {});\n",
              "      } catch (error) {\n",
              "        console.error('Error during call to suggestCharts:', error);\n",
              "      }\n",
              "      quickchartButtonEl.classList.remove('colab-df-spinner');\n",
              "      quickchartButtonEl.classList.add('colab-df-quickchart-complete');\n",
              "    }\n",
              "    (() => {\n",
              "      let quickchartButtonEl =\n",
              "        document.querySelector('#df-6358a9ef-9132-451b-86ad-9beab7e218fa button');\n",
              "      quickchartButtonEl.style.display =\n",
              "        google.colab.kernel.accessAllowed ? 'block' : 'none';\n",
              "    })();\n",
              "  </script>\n",
              "</div>\n",
              "\n",
              "    </div>\n",
              "  </div>\n"
            ]
          },
          "metadata": {},
          "execution_count": 23
        }
      ]
    },
    {
      "cell_type": "code",
      "source": [
        "df1.groupby(['MSID','IXBRLtag'])['datapoint'].first()"
      ],
      "metadata": {
        "id": "0hgRXtZB3cI3"
      },
      "execution_count": null,
      "outputs": []
    },
    {
      "cell_type": "code",
      "source": [
        "df1.memory_usage(deep =True)"
      ],
      "metadata": {
        "colab": {
          "base_uri": "https://localhost:8080/"
        },
        "id": "SdmiPpVo33j_",
        "outputId": "e4fdb7ca-0fcb-4b6c-91f5-6ccf855e3f21"
      },
      "execution_count": null,
      "outputs": [
        {
          "output_type": "execute_result",
          "data": {
            "text/plain": [
              "Index           128\n",
              "Unnamed: 0     4832\n",
              "datapoint     38195\n",
              "IXBRLtag      70252\n",
              "MSID          55577\n",
              "contextref    59195\n",
              "date           4832\n",
              "document      52548\n",
              "dtype: int64"
            ]
          },
          "metadata": {},
          "execution_count": 25
        }
      ]
    },
    {
      "cell_type": "code",
      "source": [
        "df1['IXBRLtag'] = df1['IXBRLtag'].astype('category')\n",
        "# use category datatype where categorical data available to make it memory efficient"
      ],
      "metadata": {
        "id": "ByprTCgA5abW"
      },
      "execution_count": null,
      "outputs": []
    },
    {
      "cell_type": "code",
      "source": [
        "df1.memory_usage(deep =True)"
      ],
      "metadata": {
        "colab": {
          "base_uri": "https://localhost:8080/"
        },
        "id": "-Vdin_CX57bZ",
        "outputId": "8096aea0-d695-402b-d0b2-cfd176da3d09"
      },
      "execution_count": null,
      "outputs": [
        {
          "output_type": "execute_result",
          "data": {
            "text/plain": [
              "Index           128\n",
              "Unnamed: 0     4832\n",
              "datapoint     38195\n",
              "IXBRLtag       7327\n",
              "MSID          55577\n",
              "contextref    59195\n",
              "date           4832\n",
              "document      52548\n",
              "dtype: int64"
            ]
          },
          "metadata": {},
          "execution_count": 27
        }
      ]
    },
    {
      "cell_type": "code",
      "source": [
        "df1['IXBRLtag'][0].split(':')"
      ],
      "metadata": {
        "colab": {
          "base_uri": "https://localhost:8080/"
        },
        "id": "j53tjlX659yW",
        "outputId": "c8e7d8ec-f515-4cb9-dac9-ec7497e521d4"
      },
      "execution_count": null,
      "outputs": [
        {
          "output_type": "execute_result",
          "data": {
            "text/plain": [
              "['us-gaap', 'LongTermDebtMaturitiesRepaymentsOfPrincipalInYearTwo']"
            ]
          },
          "metadata": {},
          "execution_count": 30
        }
      ]
    },
    {
      "cell_type": "code",
      "source": [
        "# memory efficient for numerical\n",
        "# ts2[\"id\"] = pd.to_numeric(ts2[\"id\"], downcast=\"unsigned\")\n",
        "\n",
        "# ts2[[\"x\", \"y\"]] = ts2[[\"x\", \"y\"]].apply(pd.to_numeric, downcast=\"float\")"
      ],
      "metadata": {
        "id": "cMxRWrMn6A-b"
      },
      "execution_count": null,
      "outputs": []
    },
    {
      "cell_type": "code",
      "source": [
        "# df.rename({\"one\": \"foo\", \"two\": \"bar\"}, axis=\"columns\")"
      ],
      "metadata": {
        "id": "RHN_foyK7BDb"
      },
      "execution_count": null,
      "outputs": []
    },
    {
      "cell_type": "code",
      "source": [
        "# df.query('(a < b) & (b < c)')\n",
        "# df[(df['a'] < df['b']) & (df['b'] < df['c'])]"
      ],
      "metadata": {
        "id": "lCx7cu-d-cbX"
      },
      "execution_count": null,
      "outputs": []
    },
    {
      "cell_type": "code",
      "source": [
        "# result = pd.merge(left, right, on=\"A\")"
      ],
      "metadata": {
        "id": "aoNDRomtB65w"
      },
      "execution_count": null,
      "outputs": []
    },
    {
      "cell_type": "code",
      "source": [
        "# df_new = df.assign(count_plus_5=df['Count'] + 5)"
      ],
      "metadata": {
        "id": "tovhjhDpExJ3"
      },
      "execution_count": null,
      "outputs": []
    },
    {
      "cell_type": "code",
      "source": [
        "# You can also set thresh parameter to keep only the rows/columns that have at least thresh non-NA/null values.\n",
        "\n",
        "# df_drop_na = df.dropna(thresh=2)"
      ],
      "metadata": {
        "id": "sD3k9BqwEyCn"
      },
      "execution_count": null,
      "outputs": []
    },
    {
      "cell_type": "code",
      "source": [],
      "metadata": {
        "id": "UN-NVArDFYO8"
      },
      "execution_count": null,
      "outputs": []
    }
  ]
}